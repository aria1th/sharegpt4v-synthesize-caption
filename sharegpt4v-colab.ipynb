{
 "cells": [
  {
   "cell_type": "code",
   "execution_count": null,
   "metadata": {},
   "outputs": [],
   "source": [
    "!sudo apt install python3.10-venv\n",
    "!python3.10 -m venv venv\n",
    "!source venv/bin/activate\n",
    "# llava, gradio\n",
    "!git clone https://github.com/haotian-liu/LLaVA\n",
    "%cd LLaVA\n",
    "%pip install --upgrade pip  # enable PEP 660 support\n",
    "%pip install -e ."
   ]
  },
  {
   "cell_type": "code",
   "execution_count": null,
   "metadata": {},
   "outputs": [],
   "source": [
    "def patch_file(file_path:str, line_num:int, content:str):\n",
    "    \"\"\"\n",
    "    Patches file in-place.\n",
    "    \"\"\"\n",
    "    lines = []\n",
    "    with open(file_path, 'r') as f:\n",
    "        lines = f.readlines()\n",
    "    lines[line_num] = content\n",
    "    with open(file_path, 'w') as f:\n",
    "        f.writelines(lines)\n",
    "\n",
    "# patch './llava/model/multimodal_encoder/builder.py' line 8 \n",
    "patch_file('./llava/model/multimodal_encoder/builder.py', 7, '    if is_absolute_path_exists or vision_tower.startswith(\"openai\") or vision_tower.startswith(\"laion\") or \"ShareGPT4V\" in vision_tower:')\n",
    "\n",
    "# open ./llava/model/builder.py and replace line 131\n",
    "# if 'llava' in model_name.lower() or \"sharegpt4v\" in model_name.lower():\n",
    "patch_file('./llava/model/builder.py', 130, '    if \"llava\" in model_name.lower() or \"sharegpt4v\" in model_name.lower():\\n')\n",
    "\n",
    "!git lfs clone https://huggingface.co/Lin-Chen/ShareGPT4V-7B_Pretrained_vit-large336-l12.git\n",
    "\n",
    "!git clone https://github.com/aria1th/sharegpt4v-synthesize-caption\n",
    "# move ../main.py to ./main.py\n",
    "!mv sharegpt4v-synthesize-caption/main.py ./main.py\n",
    "\n",
    "# launch main.py\n",
    "!python main.py"
   ]
  }
 ],
 "metadata": {
  "language_info": {
   "name": "python"
  }
 },
 "nbformat": 4,
 "nbformat_minor": 2
}
